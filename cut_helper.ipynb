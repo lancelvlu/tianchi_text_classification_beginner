{
 "cells": [
  {
   "cell_type": "code",
   "execution_count": null,
   "metadata": {},
   "outputs": [],
   "source": [
    "import pandas as pd"
   ]
  },
  {
   "cell_type": "code",
   "execution_count": null,
   "metadata": {},
   "outputs": [],
   "source": [
    "#读取训练集、测试集，并合并为total_df\n",
    "train_df = pd.read_csv('../data/train_set.csv', sep='\\t')\n",
    "test_a_df = pd.read_csv('../data/test_a.csv', sep='\\t')\n",
    "test_b_df = pd.read_csv('../data/test_b.csv', sep='\\t')"
   ]
  },
  {
   "cell_type": "code",
   "execution_count": null,
   "metadata": {},
   "outputs": [],
   "source": [
    "def cut_text(raw_text, max_len, pre_len, post_len):\n",
    "    temp_list = raw_text.split()\n",
    "    raw_len = len(temp_list)\n",
    "    if raw_len > max_len:\n",
    "        return ' '.join(temp_list[:pre_len]+temp_list[raw_len-post_len:])\n",
    "    else:\n",
    "        return raw_text"
   ]
  },
  {
   "cell_type": "code",
   "execution_count": null,
   "metadata": {},
   "outputs": [],
   "source": [
    "train_df['cut_text'] = train_df['text'].apply(lambda x: cut_text(x, 3000, 1500, 1500))\n",
    "train_df.to_csv(\"../data/cut_train.csv\", sep='\\t', index=False, columns=['cut_text'])"
   ]
  },
  {
   "cell_type": "code",
   "execution_count": null,
   "metadata": {},
   "outputs": [],
   "source": [
    "test_a_df['cut_text'] = test_a_df['text'].apply(lambda x: cut_text(x, 3000, 1500, 1500))\n",
    "test_a_df.to_csv(\"../data/cut_test_a.csv\", sep='\\t', index=False, columns=['cut_text'])"
   ]
  },
  {
   "cell_type": "code",
   "execution_count": null,
   "metadata": {},
   "outputs": [],
   "source": [
    "test_b_df['cut_text'] = test_b_df['text'].apply(lambda x: cut_text(x, 3000, 1500, 1500))\n",
    "test_b_df.to_csv(\"../data/cut_test_b.csv\", sep='\\t', index=False, columns=['cut_text'])"
   ]
  }
 ],
 "metadata": {
  "kernelspec": {
   "display_name": "Python 3",
   "language": "python",
   "name": "python3"
  },
  "language_info": {
   "codemirror_mode": {
    "name": "ipython",
    "version": 3
   },
   "file_extension": ".py",
   "mimetype": "text/x-python",
   "name": "python",
   "nbconvert_exporter": "python",
   "pygments_lexer": "ipython3",
   "version": "3.7.0"
  }
 },
 "nbformat": 4,
 "nbformat_minor": 2
}
